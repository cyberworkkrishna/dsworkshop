{
  "nbformat": 4,
  "nbformat_minor": 0,
  "metadata": {
    "colab": {
      "provenance": []
    },
    "kernelspec": {
      "name": "python3",
      "display_name": "Python 3"
    },
    "language_info": {
      "name": "python"
    }
  },
  "cells": [
    {
      "cell_type": "code",
      "execution_count": null,
      "metadata": {
        "id": "WAu3yLBoEs4m"
      },
      "outputs": [],
      "source": [
        "#create any 3 dimensional array and practice indexing"
      ]
    },
    {
      "cell_type": "code",
      "source": [
        "import numpy as np\n",
        "\n",
        "\n",
        "array_3d = np.array([[[1, 2], [3, 4]],\n",
        "                     [[5, 6], [7, 8]],\n",
        "                     [[9, 10], [11, 12]]])\n",
        "\n",
        "print(array_3d[0, 1, 1])\n",
        "print(array_3d[:, :, 0])\n",
        "print(array_3d[2, :, :])"
      ],
      "metadata": {
        "colab": {
          "base_uri": "https://localhost:8080/"
        },
        "id": "UoCLC1G030yp",
        "outputId": "3d9c9290-f45b-49b7-a3c5-f6ab0cf2916f"
      },
      "execution_count": null,
      "outputs": [
        {
          "output_type": "stream",
          "name": "stdout",
          "text": [
            "4\n",
            "[[ 1  3]\n",
            " [ 5  7]\n",
            " [ 9 11]]\n",
            "[[ 9 10]\n",
            " [11 12]]\n"
          ]
        }
      ]
    },
    {
      "cell_type": "code",
      "source": [
        "#create array of suqares of keys of below dictionary\n",
        "#d = {1:2,2:3,3:4,4:5}"
      ],
      "metadata": {
        "id": "heew7jo-tBoD"
      },
      "execution_count": null,
      "outputs": []
    },
    {
      "cell_type": "code",
      "source": [
        "d = {1: 2, 2: 3, 3: 4, 4: 5}\n",
        "\n",
        "squares = np.array([k**2 for k in d.keys()])\n",
        "print(squares)\n"
      ],
      "metadata": {
        "colab": {
          "base_uri": "https://localhost:8080/"
        },
        "id": "jYkUa7e84GQw",
        "outputId": "e49548be-f3fd-4fd4-8519-d2e0aa8af8b6"
      },
      "execution_count": null,
      "outputs": [
        {
          "output_type": "stream",
          "name": "stdout",
          "text": [
            "[ 1  4  9 16]\n"
          ]
        }
      ]
    },
    {
      "cell_type": "code",
      "source": [
        "# multiply any 2 dim array to identity matrix (2*2) and comment on result\n"
      ],
      "metadata": {
        "id": "lVm5ozRmtZEK"
      },
      "execution_count": null,
      "outputs": []
    },
    {
      "cell_type": "code",
      "source": [
        "\n",
        "import numpy as np\n",
        "\n",
        "\n",
        "A = np.array([[3, 5],\n",
        "              [7, 9]])\n",
        "\n",
        "I = np.eye(2)\n",
        "\n",
        "result = np.dot(A, I)\n",
        "\n",
        "print(result)\n",
        "# Multiplying by the identity matrix returns the same matrix.\n",
        "# The result is unchanged.\n",
        "# This happens because matrix multiplication in NumPy often returns floating-point values\n",
        "#Notice that the result is returned as a float array, even though the original matrix had integers\n"
      ],
      "metadata": {
        "colab": {
          "base_uri": "https://localhost:8080/"
        },
        "id": "6wYCh-U84OVi",
        "outputId": "f6043324-953d-4674-ffeb-8d979cb8319e"
      },
      "execution_count": 2,
      "outputs": [
        {
          "output_type": "stream",
          "name": "stdout",
          "text": [
            "[[3. 5.]\n",
            " [7. 9.]]\n"
          ]
        }
      ]
    }
  ]
}