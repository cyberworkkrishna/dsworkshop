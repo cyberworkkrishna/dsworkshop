{
  "nbformat": 4,
  "nbformat_minor": 0,
  "metadata": {
    "colab": {
      "provenance": []
    },
    "kernelspec": {
      "name": "python3",
      "display_name": "Python 3"
    },
    "language_info": {
      "name": "python"
    }
  },
  "cells": [
    {
      "cell_type": "code",
      "execution_count": 3,
      "metadata": {
        "id": "HDkSxkmSUHRT"
      },
      "outputs": [],
      "source": [
        "l1 = [1,2,3,4]\n",
        "l2 = [3,4,5,6]\n",
        "#add this two list elementwise"
      ]
    },
    {
      "cell_type": "code",
      "source": [
        "l1 = [1, 2, 3, 4]\n",
        "l2 = [3, 4, 5, 6]\n",
        "\n",
        "\n",
        "added_list = [x + y for x, y in zip(l1, l2)]\n",
        "print(added_list)\n"
      ],
      "metadata": {
        "colab": {
          "base_uri": "https://localhost:8080/"
        },
        "id": "XeRXr8yb5f_D",
        "outputId": "8db2296d-e280-4427-adcf-9b9d42b00083"
      },
      "execution_count": 1,
      "outputs": [
        {
          "output_type": "stream",
          "name": "stdout",
          "text": [
            "[4, 6, 8, 10]\n"
          ]
        }
      ]
    },
    {
      "cell_type": "code",
      "source": [
        "#Find maximum element combining two list l1 and l2"
      ],
      "metadata": {
        "id": "DyEJ56p-US2T"
      },
      "execution_count": null,
      "outputs": []
    },
    {
      "cell_type": "code",
      "source": [
        "max_element = max(l1 + l2)\n",
        "print(max_element)\n"
      ],
      "metadata": {
        "colab": {
          "base_uri": "https://localhost:8080/"
        },
        "id": "fZSrg_6f5pXs",
        "outputId": "7e2dd207-57bb-40b3-e66f-a988ca713d05"
      },
      "execution_count": 2,
      "outputs": [
        {
          "output_type": "stream",
          "name": "stdout",
          "text": [
            "6\n"
          ]
        }
      ]
    },
    {
      "cell_type": "code",
      "source": [
        "#find common elemnts from list l1 and l2"
      ],
      "metadata": {
        "id": "DJ-yEKuhUzHa"
      },
      "execution_count": 4,
      "outputs": []
    },
    {
      "cell_type": "code",
      "source": [
        "common_elements = list(set(l1) & set(l2))\n",
        "print(common_elements)\n"
      ],
      "metadata": {
        "colab": {
          "base_uri": "https://localhost:8080/"
        },
        "id": "O-4H8cIH5vWe",
        "outputId": "0ecc15d7-130f-4e5d-84c4-6fe5a630a774"
      },
      "execution_count": 5,
      "outputs": [
        {
          "output_type": "stream",
          "name": "stdout",
          "text": [
            "[3, 4]\n"
          ]
        }
      ]
    },
    {
      "cell_type": "code",
      "source": [
        "d1 = {'a': 1, 'b': 2, 'c': 3, 'd': 4}\n",
        "d2 = {'a': 7, 'f': 2, 'g': 55, 'h': \"101\"}\n",
        "\n",
        "#find common key from d1 and d2\n",
        "#find common value from d1 and d2"
      ],
      "metadata": {
        "id": "R9O5Y42CVIt6"
      },
      "execution_count": 6,
      "outputs": []
    },
    {
      "cell_type": "code",
      "source": [
        "d1 = {'a': 1, 'b': 2, 'c': 3, 'd': 4}\n",
        "d2 = {'a': 7, 'f': 2, 'g': 55, 'h': \"101\"}\n",
        "\n",
        "common_keys = list(d1.keys() & d2.keys())\n",
        "print(common_keys)"
      ],
      "metadata": {
        "colab": {
          "base_uri": "https://localhost:8080/"
        },
        "id": "An9rRVrM5ypC",
        "outputId": "46f5fcb8-43d2-429a-c32f-730986ed1a74"
      },
      "execution_count": 7,
      "outputs": [
        {
          "output_type": "stream",
          "name": "stdout",
          "text": [
            "['a']\n"
          ]
        }
      ]
    },
    {
      "cell_type": "code",
      "source": [
        "common_values = list(set(d1.values()) & set(d2.values()))\n",
        "print(common_values)\n"
      ],
      "metadata": {
        "colab": {
          "base_uri": "https://localhost:8080/"
        },
        "id": "Ku86ZSMg517D",
        "outputId": "a3a74ecd-aae1-4a76-940b-ec6f294ad03f"
      },
      "execution_count": 8,
      "outputs": [
        {
          "output_type": "stream",
          "name": "stdout",
          "text": [
            "[2]\n"
          ]
        }
      ]
    },
    {
      "cell_type": "code",
      "source": [
        "#replace the values of d1 to their negatie value"
      ],
      "metadata": {
        "id": "F7fLH0gvVnCL"
      },
      "execution_count": 9,
      "outputs": []
    },
    {
      "cell_type": "code",
      "source": [
        "d1_negative = {k: -v for k, v in d1.items()}\n",
        "print(d1_negative)"
      ],
      "metadata": {
        "colab": {
          "base_uri": "https://localhost:8080/"
        },
        "id": "Q9i1_HMS5_nL",
        "outputId": "30c960e3-24c9-482c-a2f4-bc136297f053"
      },
      "execution_count": 10,
      "outputs": [
        {
          "output_type": "stream",
          "name": "stdout",
          "text": [
            "{'a': -1, 'b': -2, 'c': -3, 'd': -4}\n"
          ]
        }
      ]
    },
    {
      "cell_type": "code",
      "source": [
        "#replace key to value and value to key in d2"
      ],
      "metadata": {
        "id": "BAr0i9uHWAKq"
      },
      "execution_count": 11,
      "outputs": []
    },
    {
      "cell_type": "code",
      "source": [
        "d2_swapped = {v: k for k, v in d2.items()}\n",
        "print(d2_swapped)\n"
      ],
      "metadata": {
        "colab": {
          "base_uri": "https://localhost:8080/"
        },
        "id": "YsoM8BM955P8",
        "outputId": "067f914d-8f69-4ce7-8754-ca222ba4238f"
      },
      "execution_count": 12,
      "outputs": [
        {
          "output_type": "stream",
          "name": "stdout",
          "text": [
            "{7: 'a', 2: 'f', 55: 'g', '101': 'h'}\n"
          ]
        }
      ]
    }
  ]
}